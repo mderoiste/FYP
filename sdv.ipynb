{
 "cells": [
  {
   "cell_type": "code",
   "execution_count": 24,
   "metadata": {},
   "outputs": [],
   "source": [
    "import pandas as pd\n",
    "import numpy as np\n",
    "from datetime import datetime\n",
    "from sdv import SDV\n",
    "from sdv import Metadata\n",
    "from sdv.evaluation import evaluate\n",
    "\n",
    "from implicit.als import AlternatingLeastSquares\n",
    "from implicit.bpr import BayesianPersonalizedRanking\n",
    "from implicit.datasets.movielens import get_movielens\n",
    "from implicit.lmf import LogisticMatrixFactorization\n",
    "from implicit.nearest_neighbours import (BM25Recommender, CosineRecommender,\n",
    "                                         TFIDFRecommender, bm25_weight)\n",
    "from implicit.evaluation import ranking_metrics_at_k, train_test_split\n",
    "from datetime import datetime\n",
    "\n",
    "import os\n",
    "os.environ['TQDM_DISABLE'] = '1'"
   ]
  },
  {
   "cell_type": "code",
   "execution_count": 25,
   "metadata": {},
   "outputs": [],
   "source": [
    "ml_csv = r\"/Users/micha/git/training/ratings_2.csv\"     #100k MovieLens\n",
    "#ml_csv = 'ml-100k/ratings.csv'"
   ]
  },
  {
   "cell_type": "code",
   "execution_count": 26,
   "metadata": {},
   "outputs": [
    {
     "data": {
      "text/html": [
       "<div>\n",
       "<style scoped>\n",
       "    .dataframe tbody tr th:only-of-type {\n",
       "        vertical-align: middle;\n",
       "    }\n",
       "\n",
       "    .dataframe tbody tr th {\n",
       "        vertical-align: top;\n",
       "    }\n",
       "\n",
       "    .dataframe thead th {\n",
       "        text-align: right;\n",
       "    }\n",
       "</style>\n",
       "<table border=\"1\" class=\"dataframe\">\n",
       "  <thead>\n",
       "    <tr style=\"text-align: right;\">\n",
       "      <th></th>\n",
       "      <th>userId</th>\n",
       "      <th>movieId</th>\n",
       "      <th>rating</th>\n",
       "      <th>timestamp</th>\n",
       "      <th>rating_id</th>\n",
       "    </tr>\n",
       "  </thead>\n",
       "  <tbody>\n",
       "    <tr>\n",
       "      <th>0</th>\n",
       "      <td>196</td>\n",
       "      <td>242</td>\n",
       "      <td>3</td>\n",
       "      <td>1997-12-04 15:55:49</td>\n",
       "      <td>0</td>\n",
       "    </tr>\n",
       "    <tr>\n",
       "      <th>1</th>\n",
       "      <td>186</td>\n",
       "      <td>302</td>\n",
       "      <td>3</td>\n",
       "      <td>1998-04-04 20:22:22</td>\n",
       "      <td>1</td>\n",
       "    </tr>\n",
       "  </tbody>\n",
       "</table>\n",
       "</div>"
      ],
      "text/plain": [
       "   userId  movieId  rating           timestamp  rating_id\n",
       "0     196      242       3 1997-12-04 15:55:49          0\n",
       "1     186      302       3 1998-04-04 20:22:22          1"
      ]
     },
     "execution_count": 26,
     "metadata": {},
     "output_type": "execute_result"
    }
   ],
   "source": [
    "df = pd.read_csv(ml_csv)\n",
    "\n",
    "# create a `rating_id` field, unique for each rating\n",
    "df['rating_id'] = range(len(df))\n",
    "\n",
    "# and turn the timestamps into datetimes\n",
    "time_fmt = \"%Y-%m-%d %H:%M:%S\"\n",
    "df.timestamp = df.timestamp.apply(lambda x: datetime.fromtimestamp(x))\n",
    "\n",
    "df.head(2)"
   ]
  },
  {
   "cell_type": "markdown",
   "metadata": {},
   "source": [
    "Now we'll remove the column timestamp from the dataset."
   ]
  },
  {
   "cell_type": "code",
   "execution_count": 27,
   "metadata": {},
   "outputs": [],
   "source": [
    "tables = {\n",
    "    'ratings': pd.DataFrame({'rating_id': df.rating_id, 'rating': df.rating, \n",
    "                             'timestamp': df.timestamp, \n",
    "                             'movieId': df.movieId, 'userId': df.userId})\n",
    "}\n",
    "\n",
    "metadata = {\n",
    "    'tables': {\n",
    "        'ratings': {\n",
    "            'primary_key': 'rating_id',\n",
    "            'fields': {\n",
    "                'rating_id': {\n",
    "                    'type': 'id',\n",
    "                    'subtype': 'integer'\n",
    "                },\n",
    "                'rating': {\n",
    "                    'type': 'categorical',\n",
    "                    #'subtype': 'integer'\n",
    "                },\n",
    "                'timestamp': {\n",
    "                    'type': 'datetime',\n",
    "                    'format': time_fmt,\n",
    "                },\n",
    "                'userId': {\n",
    "                    'type': 'categorical',\n",
    "                    #'subtype': 'integer',\n",
    "                },\n",
    "                'movieId': {\n",
    "                    'type': 'categorical',\n",
    "                    #'subtype': 'integer',\n",
    "                }\n",
    "            }\n",
    "        } \n",
    "    }\n",
    "}\n",
    "\n",
    "metadata = Metadata(metadata)"
   ]
  },
  {
   "cell_type": "code",
   "execution_count": 29,
   "metadata": {},
   "outputs": [],
   "source": [
    "sdv = SDV()\n",
    "sdv.fit(metadata, tables)"
   ]
  },
  {
   "cell_type": "code",
   "execution_count": null,
   "metadata": {},
   "outputs": [],
   "source": [
    "samples = sdv.sample('ratings', int(0.5*len(df)), reset_primary_keys=True)   #why 0.5*len\n",
    "res = evaluate(samples, real=tables, metadata=sdv.metadata)\n",
    "print(res)"
   ]
  },
  {
   "cell_type": "code",
   "execution_count": 113,
   "metadata": {},
   "outputs": [
    {
     "data": {
      "text/plain": [
       "{'mse': {0: 6.513223574144483e-06},\n",
       " 'r2_score': {0: 0.9321214489717161},\n",
       " 'rmse': {0: 0.0025521017954118685}}"
      ]
     },
     "execution_count": 113,
     "metadata": {},
     "output_type": "execute_result"
    }
   ],
   "source": [
    "res.to_dict()"
   ]
  },
  {
   "cell_type": "code",
   "execution_count": 115,
   "metadata": {},
   "outputs": [
    {
     "data": {
      "text/html": [
       "<div>\n",
       "<style scoped>\n",
       "    .dataframe tbody tr th:only-of-type {\n",
       "        vertical-align: middle;\n",
       "    }\n",
       "\n",
       "    .dataframe tbody tr th {\n",
       "        vertical-align: top;\n",
       "    }\n",
       "\n",
       "    .dataframe thead th {\n",
       "        text-align: right;\n",
       "    }\n",
       "</style>\n",
       "<table border=\"1\" class=\"dataframe\">\n",
       "  <thead>\n",
       "    <tr style=\"text-align: right;\">\n",
       "      <th></th>\n",
       "      <th>rating_id</th>\n",
       "      <th>rating</th>\n",
       "      <th>timestamp</th>\n",
       "      <th>userId</th>\n",
       "      <th>movieId</th>\n",
       "    </tr>\n",
       "  </thead>\n",
       "  <tbody>\n",
       "    <tr>\n",
       "      <th>0</th>\n",
       "      <td>0</td>\n",
       "      <td>5</td>\n",
       "      <td>1998-01-21 07:49:48.415720320</td>\n",
       "      <td>479</td>\n",
       "      <td>117</td>\n",
       "    </tr>\n",
       "    <tr>\n",
       "      <th>1</th>\n",
       "      <td>1</td>\n",
       "      <td>5</td>\n",
       "      <td>1997-10-29 16:40:48.209831296</td>\n",
       "      <td>168</td>\n",
       "      <td>603</td>\n",
       "    </tr>\n",
       "    <tr>\n",
       "      <th>2</th>\n",
       "      <td>2</td>\n",
       "      <td>3</td>\n",
       "      <td>1998-02-13 19:24:52.073470080</td>\n",
       "      <td>374</td>\n",
       "      <td>335</td>\n",
       "    </tr>\n",
       "    <tr>\n",
       "      <th>3</th>\n",
       "      <td>3</td>\n",
       "      <td>3</td>\n",
       "      <td>1997-11-01 13:52:43.170262528</td>\n",
       "      <td>264</td>\n",
       "      <td>458</td>\n",
       "    </tr>\n",
       "    <tr>\n",
       "      <th>4</th>\n",
       "      <td>4</td>\n",
       "      <td>4</td>\n",
       "      <td>1998-05-03 02:59:28.365404928</td>\n",
       "      <td>347</td>\n",
       "      <td>222</td>\n",
       "    </tr>\n",
       "    <tr>\n",
       "      <th>...</th>\n",
       "      <td>...</td>\n",
       "      <td>...</td>\n",
       "      <td>...</td>\n",
       "      <td>...</td>\n",
       "      <td>...</td>\n",
       "    </tr>\n",
       "    <tr>\n",
       "      <th>49995</th>\n",
       "      <td>49995</td>\n",
       "      <td>4</td>\n",
       "      <td>1997-12-22 16:37:32.154622080</td>\n",
       "      <td>719</td>\n",
       "      <td>202</td>\n",
       "    </tr>\n",
       "    <tr>\n",
       "      <th>49996</th>\n",
       "      <td>49996</td>\n",
       "      <td>1</td>\n",
       "      <td>1997-10-12 17:44:53.345183104</td>\n",
       "      <td>264</td>\n",
       "      <td>258</td>\n",
       "    </tr>\n",
       "    <tr>\n",
       "      <th>49997</th>\n",
       "      <td>49997</td>\n",
       "      <td>3</td>\n",
       "      <td>1997-08-05 13:01:27.743409024</td>\n",
       "      <td>221</td>\n",
       "      <td>147</td>\n",
       "    </tr>\n",
       "    <tr>\n",
       "      <th>49998</th>\n",
       "      <td>49998</td>\n",
       "      <td>4</td>\n",
       "      <td>1997-11-30 04:42:38.786087424</td>\n",
       "      <td>854</td>\n",
       "      <td>302</td>\n",
       "    </tr>\n",
       "    <tr>\n",
       "      <th>49999</th>\n",
       "      <td>49999</td>\n",
       "      <td>4</td>\n",
       "      <td>1997-12-20 13:21:14.547517568</td>\n",
       "      <td>207</td>\n",
       "      <td>52</td>\n",
       "    </tr>\n",
       "  </tbody>\n",
       "</table>\n",
       "<p>50000 rows × 5 columns</p>\n",
       "</div>"
      ],
      "text/plain": [
       "       rating_id rating                     timestamp userId movieId\n",
       "0              0      5 1998-01-21 07:49:48.415720320    479     117\n",
       "1              1      5 1997-10-29 16:40:48.209831296    168     603\n",
       "2              2      3 1998-02-13 19:24:52.073470080    374     335\n",
       "3              3      3 1997-11-01 13:52:43.170262528    264     458\n",
       "4              4      4 1998-05-03 02:59:28.365404928    347     222\n",
       "...          ...    ...                           ...    ...     ...\n",
       "49995      49995      4 1997-12-22 16:37:32.154622080    719     202\n",
       "49996      49996      1 1997-10-12 17:44:53.345183104    264     258\n",
       "49997      49997      3 1997-08-05 13:01:27.743409024    221     147\n",
       "49998      49998      4 1997-11-30 04:42:38.786087424    854     302\n",
       "49999      49999      4 1997-12-20 13:21:14.547517568    207      52\n",
       "\n",
       "[50000 rows x 5 columns]"
      ]
     },
     "execution_count": 115,
     "metadata": {},
     "output_type": "execute_result"
    }
   ],
   "source": [
    "samples['ratings']"
   ]
  },
  {
   "cell_type": "markdown",
   "metadata": {},
   "source": [
    "#### Replace rating with 1.0 and run implicit on the data"
   ]
  },
  {
   "cell_type": "code",
   "execution_count": 90,
   "metadata": {},
   "outputs": [],
   "source": [
    "from surprise import Reader, Dataset\n",
    "from surprise import SVD, accuracy\n",
    "from surprise.model_selection import train_test_split\n",
    "from surprise.model_selection import cross_validate"
   ]
  },
  {
   "cell_type": "code",
   "execution_count": 90,
   "metadata": {},
   "outputs": [
    {
     "name": "stdout",
     "output_type": "stream",
     "text": [
      "RMSE: 0.9450\n",
      "0.944950513373212\n"
     ]
    }
   ],
   "source": [
    "reader = Reader()\n",
    "data = Dataset.load_from_df(df[['userId', 'movieId', 'rating']], reader)\n",
    "trainset, testset = train_test_split(data, test_size = 0.3)\n",
    "algo = SVD()\n",
    "algo.fit(trainset)\n",
    "predictions = algo.test(testset)\n",
    "print(accuracy.rmse(predictions))"
   ]
  },
  {
   "cell_type": "code",
   "execution_count": 91,
   "metadata": {},
   "outputs": [
    {
     "name": "stdout",
     "output_type": "stream",
     "text": [
      "RMSE: 0.9894\n",
      "0.9894312599152958\n"
     ]
    }
   ],
   "source": [
    "reader = Reader()\n",
    "data = Dataset.load_from_df(samples['ratings'][['userId', 'movieId', 'rating']], reader)\n",
    "trainset, testset = train_test_split(data, test_size = 0.3)\n",
    "algo = SVD()\n",
    "algo.fit(trainset)\n",
    "predictions = algo.test(testset)\n",
    "print(accuracy.rmse(predictions))"
   ]
  },
  {
   "cell_type": "markdown",
   "metadata": {},
   "source": [
    "This is pretty good- with Surprise SVD we get\n",
    "\n",
    "Real RMSE: 0.9450\n",
    "Synthetic RMSE: 0.9894"
   ]
  },
  {
   "cell_type": "code",
   "execution_count": 100,
   "metadata": {},
   "outputs": [],
   "source": [
    "from scipy import sparse\n",
    "\n",
    "def preprocess_movie_lens(ratings_df):\n",
    "    \"\"\"Separate the rating datafram into train and test sets.\n",
    "\n",
    "    Filters out users with less than two distinct timestamps. Creates train set\n",
    "    and test set. The test set contains all the last interactions of users with\n",
    "    more than two distinct timestamps.\n",
    "\n",
    "    Args:\n",
    "      ratings_df: pandas dataframe with columns 'userId', 'movieId', 'rating',\n",
    "        'timestamp'.\n",
    "\n",
    "    Returns:\n",
    "      tuple of dataframes (filtered_ratings, train_ratings, test_ratings).\n",
    "    \"\"\"\n",
    "    ratings_df[\"data\"] = 1.0\n",
    "    num_timestamps = ratings_df[[\"userId\", \"timestamp\"]].groupby(\n",
    "        \"userId\").nunique()\n",
    "    last_user_timestamp = ratings_df[[\"userId\", \"timestamp\"]].groupby(\n",
    "        \"userId\").max()\n",
    "\n",
    "    ratings_df[\"numberOfTimestamps\"] = ratings_df[\"userId\"].apply(\n",
    "        lambda x: num_timestamps[\"timestamp\"][x])\n",
    "    ratings_df[\"lastTimestamp\"] = ratings_df[\"userId\"].apply(\n",
    "        lambda x: last_user_timestamp[\"timestamp\"][x])\n",
    "\n",
    "    ratings_df = ratings_df[ratings_df[\"numberOfTimestamps\"] > 2]\n",
    "\n",
    "    ratings_df = create_row_col_indices(ratings_df)\n",
    "\n",
    "    train_ratings_df = ratings_df[\n",
    "        ratings_df[\"timestamp\"] < ratings_df[\"lastTimestamp\"]]\n",
    "    test_ratings_df = ratings_df[\n",
    "        ratings_df[\"timestamp\"] == ratings_df[\"lastTimestamp\"]]\n",
    "\n",
    "    return ratings_df, train_ratings_df, test_ratings_df\n",
    "\n",
    "def create_index(df, colname):\n",
    "    value_set = sorted(set(df[colname].values))\n",
    "    num_unique = len(value_set)\n",
    "    return dict(zip(value_set, range(num_unique)))\n",
    "\n",
    "def create_row_col_indices(ratings_df):\n",
    "    \"\"\"Maps user and items ids to their locations in the rating matrix.\"\"\"\n",
    "    user_id_to_user_idx = create_index(ratings_df, \"userId\")\n",
    "    item_id_to_item_idx = create_index(ratings_df, \"movieId\")\n",
    "\n",
    "    ratings_df[\"row\"] = ratings_df[\"userId\"].apply(\n",
    "        lambda x: user_id_to_user_idx[x])\n",
    "    ratings_df[\"col\"] = ratings_df[\"movieId\"].apply(\n",
    "        lambda x: item_id_to_item_idx[x])\n",
    "\n",
    "    return ratings_df\n",
    "\n",
    "def describe_rating_df(df, df_name=\"\"):\n",
    "    num_ratings = len(df)\n",
    "    num_users = len(set(df[\"row\"].values))\n",
    "    num_items = len(set(df[\"col\"].values))\n",
    "\n",
    "    return num_users, num_items, num_ratings\n",
    "\n",
    "def convert_df_to_sparse_matrix(df, shape=None, row_name=\"row\", col_name=\"col\",\n",
    "                                data_name=\"data\"):\n",
    "    row = df[row_name].values\n",
    "    col = df[col_name].values\n",
    "    data = df[data_name].values\n",
    "\n",
    "    return sparse.csr_matrix((data, (row, col)), shape=shape)\n",
    "\n",
    "\n",
    "ratings_df, train_ratings_df, test_ratings_df = preprocess_movie_lens(df)\n",
    "num_users, num_items, _ = describe_rating_df(ratings_df, \"original set\")\n",
    "\n",
    "train_ratings_matrix = convert_df_to_sparse_matrix(train_ratings_df, shape=(num_users, num_items))\n",
    "test_ratings_matrix = convert_df_to_sparse_matrix(test_ratings_df, shape=(num_users, num_items))"
   ]
  },
  {
   "cell_type": "code",
   "execution_count": 97,
   "metadata": {},
   "outputs": [
    {
     "data": {
      "text/plain": [
       "(100000, 97852, 2148)"
      ]
     },
     "execution_count": 97,
     "metadata": {},
     "output_type": "execute_result"
    }
   ],
   "source": [
    "len(ratings_df), len(train_ratings_df), len(test_ratings_df)"
   ]
  },
  {
   "cell_type": "code",
   "execution_count": 101,
   "metadata": {},
   "outputs": [
    {
     "data": {
      "text/plain": [
       "((943, 1682), (943, 1682))"
      ]
     },
     "execution_count": 101,
     "metadata": {},
     "output_type": "execute_result"
    }
   ],
   "source": [
    "train_ratings_matrix.shape, test_ratings_matrix.shape"
   ]
  },
  {
   "cell_type": "code",
   "execution_count": 109,
   "metadata": {},
   "outputs": [
    {
     "data": {
      "text/plain": [
       "<943x1682 sparse matrix of type '<class 'numpy.float64'>'\n",
       "\twith 97852 stored elements in Compressed Sparse Row format>"
      ]
     },
     "execution_count": 109,
     "metadata": {},
     "output_type": "execute_result"
    }
   ],
   "source": [
    "train_ratings_matrix"
   ]
  },
  {
   "cell_type": "code",
   "execution_count": 108,
   "metadata": {},
   "outputs": [
    {
     "data": {
      "application/vnd.jupyter.widget-view+json": {
       "model_id": "8995caff34304a66bd8fffb4eb77405f",
       "version_major": 2,
       "version_minor": 0
      },
      "text/plain": [
       "HBox(children=(FloatProgress(value=0.0, max=500.0), HTML(value='')))"
      ]
     },
     "metadata": {},
     "output_type": "display_data"
    },
    {
     "name": "stdout",
     "output_type": "stream",
     "text": [
      "\n"
     ]
    },
    {
     "data": {
      "application/vnd.jupyter.widget-view+json": {
       "model_id": "3d368b206b26408d9ed2f49c5c1fcca4",
       "version_major": 2,
       "version_minor": 0
      },
      "text/plain": [
       "HBox(children=(FloatProgress(value=0.0, max=943.0), HTML(value='')))"
      ]
     },
     "metadata": {},
     "output_type": "display_data"
    },
    {
     "name": "stdout",
     "output_type": "stream",
     "text": [
      "\n",
      "n_users = 943, n_items = 1682\n",
      "results: {'precision': 0.23649906890130354, 'map': 0.05121547791430991, 'ndcg': 0.09998833803148777, 'auc': 0.5885126367078413}\n"
     ]
    }
   ],
   "source": [
    "model = AlternatingLeastSquares(factors=100, regularization=0.01, iterations=500, num_threads=40)\n",
    "model.fit(train_ratings_matrix.T)\n",
    "    \n",
    "res = ranking_metrics_at_k(model, train_ratings_matrix, test_ratings_matrix, K=20, num_threads=40)\n",
    "print(f'n_users = {train_ratings_matrix.shape[0]}, n_items = {train_ratings_matrix.shape[1]}')\n",
    "print(f'results: {res}')"
   ]
  },
  {
   "cell_type": "code",
   "execution_count": 135,
   "metadata": {},
   "outputs": [
    {
     "name": "stdout",
     "output_type": "stream",
     "text": [
      "256\n"
     ]
    },
    {
     "name": "stderr",
     "output_type": "stream",
     "text": [
      "/home/aonghus/anaconda3/envs/fyp/lib/python3.6/site-packages/ipykernel_launcher.py:50: SettingWithCopyWarning: \n",
      "A value is trying to be set on a copy of a slice from a DataFrame.\n",
      "Try using .loc[row_indexer,col_indexer] = value instead\n",
      "\n",
      "See the caveats in the documentation: https://pandas.pydata.org/pandas-docs/stable/user_guide/indexing.html#returning-a-view-versus-a-copy\n",
      "/home/aonghus/anaconda3/envs/fyp/lib/python3.6/site-packages/ipykernel_launcher.py:52: SettingWithCopyWarning: \n",
      "A value is trying to be set on a copy of a slice from a DataFrame.\n",
      "Try using .loc[row_indexer,col_indexer] = value instead\n",
      "\n",
      "See the caveats in the documentation: https://pandas.pydata.org/pandas-docs/stable/user_guide/indexing.html#returning-a-view-versus-a-copy\n"
     ]
    },
    {
     "data": {
      "application/vnd.jupyter.widget-view+json": {
       "model_id": "9064ffda1ace4fbb8e95089d9ee6f367",
       "version_major": 2,
       "version_minor": 0
      },
      "text/plain": [
       "HBox(children=(FloatProgress(value=0.0, max=300.0), HTML(value='')))"
      ]
     },
     "metadata": {},
     "output_type": "display_data"
    },
    {
     "name": "stdout",
     "output_type": "stream",
     "text": [
      "\n"
     ]
    },
    {
     "data": {
      "application/vnd.jupyter.widget-view+json": {
       "model_id": "534133ad434b4f7fbf0a709c4bf502e1",
       "version_major": 2,
       "version_minor": 0
      },
      "text/plain": [
       "HBox(children=(FloatProgress(value=0.0, max=5.0), HTML(value='')))"
      ]
     },
     "metadata": {},
     "output_type": "display_data"
    },
    {
     "name": "stdout",
     "output_type": "stream",
     "text": [
      "\n",
      "{'n': 256, 'sdv_mse': 7.994360032081747e-06, 'sdv_r2_score': 0.9166855598922978, 'sdv_rmse': 0.0028274299340711783, 'num_users': 5, 'num_items': 19, 'num_ratings': 19, 'precision': 1.0, 'map': 0.09833333333333333, 'ndcg': 0.2868141676552288, 'auc': 0.47777777777777775}\n",
      "512\n"
     ]
    },
    {
     "data": {
      "application/vnd.jupyter.widget-view+json": {
       "model_id": "785babbfde74462b8cce906130c6df6f",
       "version_major": 2,
       "version_minor": 0
      },
      "text/plain": [
       "HBox(children=(FloatProgress(value=0.0, max=300.0), HTML(value='')))"
      ]
     },
     "metadata": {},
     "output_type": "display_data"
    },
    {
     "name": "stdout",
     "output_type": "stream",
     "text": [
      "\n"
     ]
    },
    {
     "data": {
      "application/vnd.jupyter.widget-view+json": {
       "model_id": "834a7ffca97a4ef0bcb395a47ea39d56",
       "version_major": 2,
       "version_minor": 0
      },
      "text/plain": [
       "HBox(children=(FloatProgress(value=0.0, max=49.0), HTML(value='')))"
      ]
     },
     "metadata": {},
     "output_type": "display_data"
    },
    {
     "name": "stdout",
     "output_type": "stream",
     "text": [
      "\n",
      "{'n': 512, 'sdv_mse': 6.784445509149238e-06, 'sdv_r2_score': 0.9292948682861869, 'sdv_rmse': 0.002604696817126561, 'num_users': 49, 'num_items': 150, 'num_ratings': 172, 'precision': 0.12244897959183673, 'map': 0.005801694854489885, 'ndcg': 0.02667018871856712, 'auc': 0.38946719627448273}\n",
      "1024\n"
     ]
    },
    {
     "data": {
      "application/vnd.jupyter.widget-view+json": {
       "model_id": "9299e11456fa4dce80ba0e18dbd7acc1",
       "version_major": 2,
       "version_minor": 0
      },
      "text/plain": [
       "HBox(children=(FloatProgress(value=0.0, max=300.0), HTML(value='')))"
      ]
     },
     "metadata": {},
     "output_type": "display_data"
    },
    {
     "name": "stdout",
     "output_type": "stream",
     "text": [
      "\n"
     ]
    },
    {
     "data": {
      "application/vnd.jupyter.widget-view+json": {
       "model_id": "2d882d1489de439aa38c7cfebd269421",
       "version_major": 2,
       "version_minor": 0
      },
      "text/plain": [
       "HBox(children=(FloatProgress(value=0.0, max=162.0), HTML(value='')))"
      ]
     },
     "metadata": {},
     "output_type": "display_data"
    },
    {
     "name": "stdout",
     "output_type": "stream",
     "text": [
      "\n",
      "{'n': 1024, 'sdv_mse': 7.497010303885454e-06, 'sdv_r2_score': 0.9218687657994756, 'sdv_rmse': 0.0027380668917843212, 'num_users': 162, 'num_items': 401, 'num_ratings': 645, 'precision': 0.05555555555555555, 'map': 0.0027074630735698, 'ndcg': 0.012374605973768868, 'auc': 0.4654166666666667}\n",
      "2048\n"
     ]
    },
    {
     "data": {
      "application/vnd.jupyter.widget-view+json": {
       "model_id": "cd2041dfdd754f238ba4b89a6e0a74cc",
       "version_major": 2,
       "version_minor": 0
      },
      "text/plain": [
       "HBox(children=(FloatProgress(value=0.0, max=300.0), HTML(value='')))"
      ]
     },
     "metadata": {},
     "output_type": "display_data"
    },
    {
     "name": "stdout",
     "output_type": "stream",
     "text": [
      "\n"
     ]
    },
    {
     "data": {
      "application/vnd.jupyter.widget-view+json": {
       "model_id": "943f2b571f0d457aac4578bc9ad15f91",
       "version_major": 2,
       "version_minor": 0
      },
      "text/plain": [
       "HBox(children=(FloatProgress(value=0.0, max=304.0), HTML(value='')))"
      ]
     },
     "metadata": {},
     "output_type": "display_data"
    },
    {
     "name": "stdout",
     "output_type": "stream",
     "text": [
      "\n",
      "{'n': 2048, 'sdv_mse': 7.4916307394768865e-06, 'sdv_r2_score': 0.9219248297489255, 'sdv_rmse': 0.0027370843500843897, 'num_users': 304, 'num_items': 621, 'num_ratings': 1697, 'precision': 0.07894736842105263, 'map': 0.006003693231770881, 'ndcg': 0.019702450356214797, 'auc': 0.4993686332767395}\n",
      "4096\n"
     ]
    },
    {
     "data": {
      "application/vnd.jupyter.widget-view+json": {
       "model_id": "06593f332c7545029de088b3bfef3dab",
       "version_major": 2,
       "version_minor": 0
      },
      "text/plain": [
       "HBox(children=(FloatProgress(value=0.0, max=300.0), HTML(value='')))"
      ]
     },
     "metadata": {},
     "output_type": "display_data"
    },
    {
     "name": "stdout",
     "output_type": "stream",
     "text": [
      "\n"
     ]
    },
    {
     "data": {
      "application/vnd.jupyter.widget-view+json": {
       "model_id": "5526149a1af242028af846026ca80933",
       "version_major": 2,
       "version_minor": 0
      },
      "text/plain": [
       "HBox(children=(FloatProgress(value=0.0, max=419.0), HTML(value='')))"
      ]
     },
     "metadata": {},
     "output_type": "display_data"
    },
    {
     "name": "stdout",
     "output_type": "stream",
     "text": [
      "\n",
      "{'n': 4096, 'sdv_mse': 6.136301436243091e-06, 'sdv_r2_score': 0.9360496004131611, 'sdv_rmse': 0.0024771559168213636, 'num_users': 419, 'num_items': 797, 'num_ratings': 3734, 'precision': 0.06921241050119331, 'map': 0.006989486930138349, 'ndcg': 0.0193120710931, 'auc': 0.5039487413199681}\n",
      "8192\n"
     ]
    },
    {
     "data": {
      "application/vnd.jupyter.widget-view+json": {
       "model_id": "0983286f3f234912a03bf2ff6efae7eb",
       "version_major": 2,
       "version_minor": 0
      },
      "text/plain": [
       "HBox(children=(FloatProgress(value=0.0, max=300.0), HTML(value='')))"
      ]
     },
     "metadata": {},
     "output_type": "display_data"
    },
    {
     "name": "stdout",
     "output_type": "stream",
     "text": [
      "\n"
     ]
    },
    {
     "data": {
      "application/vnd.jupyter.widget-view+json": {
       "model_id": "ee12d8b532214dc9a378d7f29e7a5a28",
       "version_major": 2,
       "version_minor": 0
      },
      "text/plain": [
       "HBox(children=(FloatProgress(value=0.0, max=563.0), HTML(value='')))"
      ]
     },
     "metadata": {},
     "output_type": "display_data"
    },
    {
     "name": "stdout",
     "output_type": "stream",
     "text": [
      "\n",
      "{'n': 8192, 'sdv_mse': 5.383457586683845e-06, 'sdv_r2_score': 0.9438954772016528, 'sdv_rmse': 0.002320227916969332, 'num_users': 563, 'num_items': 980, 'num_ratings': 7863, 'precision': 0.13854351687388988, 'map': 0.013018151451453035, 'ndcg': 0.0368930095260795, 'auc': 0.5442380578289776}\n",
      "16384\n"
     ]
    },
    {
     "data": {
      "application/vnd.jupyter.widget-view+json": {
       "model_id": "de58852a42f840018f31af2d66095b33",
       "version_major": 2,
       "version_minor": 0
      },
      "text/plain": [
       "HBox(children=(FloatProgress(value=0.0, max=300.0), HTML(value='')))"
      ]
     },
     "metadata": {},
     "output_type": "display_data"
    },
    {
     "name": "stdout",
     "output_type": "stream",
     "text": [
      "\n"
     ]
    },
    {
     "data": {
      "application/vnd.jupyter.widget-view+json": {
       "model_id": "1315fb8d9f3241bbb04efc8c8c2aafe9",
       "version_major": 2,
       "version_minor": 0
      },
      "text/plain": [
       "HBox(children=(FloatProgress(value=0.0, max=687.0), HTML(value='')))"
      ]
     },
     "metadata": {},
     "output_type": "display_data"
    },
    {
     "name": "stdout",
     "output_type": "stream",
     "text": [
      "\n",
      "{'n': 16384, 'sdv_mse': 6.285771908760213e-06, 'sdv_r2_score': 0.9344918711289629, 'sdv_rmse': 0.0025071441739078775, 'num_users': 687, 'num_items': 1143, 'num_ratings': 16101, 'precision': 0.09170305676855896, 'map': 0.009062243792089978, 'ndcg': 0.024543289067653542, 'auc': 0.5241309074964876}\n",
      "32768\n"
     ]
    },
    {
     "data": {
      "application/vnd.jupyter.widget-view+json": {
       "model_id": "dee2baa7292c494dbfa296f0081b61e7",
       "version_major": 2,
       "version_minor": 0
      },
      "text/plain": [
       "HBox(children=(FloatProgress(value=0.0, max=300.0), HTML(value='')))"
      ]
     },
     "metadata": {},
     "output_type": "display_data"
    },
    {
     "name": "stdout",
     "output_type": "stream",
     "text": [
      "\n"
     ]
    },
    {
     "data": {
      "application/vnd.jupyter.widget-view+json": {
       "model_id": "05f3990a41a74d3a8234dad6f772105e",
       "version_major": 2,
       "version_minor": 0
      },
      "text/plain": [
       "HBox(children=(FloatProgress(value=0.0, max=832.0), HTML(value='')))"
      ]
     },
     "metadata": {},
     "output_type": "display_data"
    },
    {
     "name": "stdout",
     "output_type": "stream",
     "text": [
      "\n",
      "{'n': 32768, 'sdv_mse': 5.818038038092564e-06, 'sdv_r2_score': 0.9393664308682915, 'sdv_rmse': 0.002412060952399952, 'num_users': 832, 'num_items': 1247, 'num_ratings': 32613, 'precision': 0.10576923076923077, 'map': 0.01040614792098257, 'ndcg': 0.028208632350933224, 'auc': 0.5329815023459724}\n",
      "65536\n"
     ]
    },
    {
     "data": {
      "application/vnd.jupyter.widget-view+json": {
       "model_id": "0091bb03efbb46dfb5c8cea27a87c691",
       "version_major": 2,
       "version_minor": 0
      },
      "text/plain": [
       "HBox(children=(FloatProgress(value=0.0, max=300.0), HTML(value='')))"
      ]
     },
     "metadata": {},
     "output_type": "display_data"
    },
    {
     "name": "stdout",
     "output_type": "stream",
     "text": [
      "\n"
     ]
    },
    {
     "data": {
      "application/vnd.jupyter.widget-view+json": {
       "model_id": "71e33390db5f4239bdccbd465320d1df",
       "version_major": 2,
       "version_minor": 0
      },
      "text/plain": [
       "HBox(children=(FloatProgress(value=0.0, max=917.0), HTML(value='')))"
      ]
     },
     "metadata": {},
     "output_type": "display_data"
    },
    {
     "name": "stdout",
     "output_type": "stream",
     "text": [
      "\n",
      "{'n': 65536, 'sdv_mse': 6.0367123457462245e-06, 'sdv_r2_score': 0.9370874832808684, 'sdv_rmse': 0.0024569721906741687, 'num_users': 917, 'num_items': 1394, 'num_ratings': 65492, 'precision': 0.10032715376226826, 'map': 0.010260463579067469, 'ndcg': 0.026899027985115592, 'auc': 0.5322855905951426}\n",
      "131072\n"
     ]
    },
    {
     "data": {
      "application/vnd.jupyter.widget-view+json": {
       "model_id": "d49ba63a7d36434196598c0e0f345d6a",
       "version_major": 2,
       "version_minor": 0
      },
      "text/plain": [
       "HBox(children=(FloatProgress(value=0.0, max=300.0), HTML(value='')))"
      ]
     },
     "metadata": {},
     "output_type": "display_data"
    },
    {
     "name": "stdout",
     "output_type": "stream",
     "text": [
      "\n"
     ]
    },
    {
     "data": {
      "application/vnd.jupyter.widget-view+json": {
       "model_id": "fd1dac0f5f2f4ee783387f1d52f8c577",
       "version_major": 2,
       "version_minor": 0
      },
      "text/plain": [
       "HBox(children=(FloatProgress(value=0.0, max=942.0), HTML(value='')))"
      ]
     },
     "metadata": {},
     "output_type": "display_data"
    },
    {
     "name": "stdout",
     "output_type": "stream",
     "text": [
      "\n",
      "{'n': 131072, 'sdv_mse': 5.8393117707311955e-06, 'sdv_r2_score': 0.9391447234249595, 'sdv_rmse': 0.0024164667948745324, 'num_users': 942, 'num_items': 1513, 'num_ratings': 131071, 'precision': 0.10191082802547771, 'map': 0.009839868507143142, 'ndcg': 0.02718761814926452, 'auc': 0.5345782922746914}\n",
      "262144\n"
     ]
    },
    {
     "data": {
      "application/vnd.jupyter.widget-view+json": {
       "model_id": "74e104cdcba54239930823e05aae0ba8",
       "version_major": 2,
       "version_minor": 0
      },
      "text/plain": [
       "HBox(children=(FloatProgress(value=0.0, max=300.0), HTML(value='')))"
      ]
     },
     "metadata": {},
     "output_type": "display_data"
    },
    {
     "name": "stdout",
     "output_type": "stream",
     "text": [
      "\n"
     ]
    },
    {
     "data": {
      "application/vnd.jupyter.widget-view+json": {
       "model_id": "52c024e28762462aa56968ec97eeeca7",
       "version_major": 2,
       "version_minor": 0
      },
      "text/plain": [
       "HBox(children=(FloatProgress(value=0.0, max=943.0), HTML(value='')))"
      ]
     },
     "metadata": {},
     "output_type": "display_data"
    },
    {
     "name": "stdout",
     "output_type": "stream",
     "text": [
      "\n",
      "{'n': 262144, 'sdv_mse': 5.963963023621745e-06, 'sdv_r2_score': 0.9378456514164907, 'sdv_rmse': 0.0024421226471292848, 'num_users': 943, 'num_items': 1591, 'num_ratings': 262144, 'precision': 0.11240721102863202, 'map': 0.0123801577960425, 'ndcg': 0.030990020187902576, 'auc': 0.540602386335585}\n",
      "524288\n"
     ]
    },
    {
     "data": {
      "application/vnd.jupyter.widget-view+json": {
       "model_id": "022ab7e97bfe45cb956f857960c09b51",
       "version_major": 2,
       "version_minor": 0
      },
      "text/plain": [
       "HBox(children=(FloatProgress(value=0.0, max=300.0), HTML(value='')))"
      ]
     },
     "metadata": {},
     "output_type": "display_data"
    },
    {
     "name": "stdout",
     "output_type": "stream",
     "text": [
      "\n"
     ]
    },
    {
     "data": {
      "application/vnd.jupyter.widget-view+json": {
       "model_id": "4f0db3d80da6419bb1f7cb91cebf9781",
       "version_major": 2,
       "version_minor": 0
      },
      "text/plain": [
       "HBox(children=(FloatProgress(value=0.0, max=943.0), HTML(value='')))"
      ]
     },
     "metadata": {},
     "output_type": "display_data"
    },
    {
     "name": "stdout",
     "output_type": "stream",
     "text": [
      "\n",
      "{'n': 524288, 'sdv_mse': 5.956585098634555e-06, 'sdv_r2_score': 0.937922541584934, 'sdv_rmse': 0.0024406116238833565, 'num_users': 943, 'num_items': 1650, 'num_ratings': 524288, 'precision': 0.10392364793213149, 'map': 0.0101421641697548, 'ndcg': 0.027494740265647827, 'auc': 0.5368165545235579}\n",
      "1048576\n"
     ]
    },
    {
     "data": {
      "application/vnd.jupyter.widget-view+json": {
       "model_id": "d6b55b06a9c6456c867a61894a38cb3e",
       "version_major": 2,
       "version_minor": 0
      },
      "text/plain": [
       "HBox(children=(FloatProgress(value=0.0, max=300.0), HTML(value='')))"
      ]
     },
     "metadata": {},
     "output_type": "display_data"
    },
    {
     "name": "stdout",
     "output_type": "stream",
     "text": [
      "\n"
     ]
    },
    {
     "data": {
      "application/vnd.jupyter.widget-view+json": {
       "model_id": "6a06d8f1b863458f8e90f9966fde78a7",
       "version_major": 2,
       "version_minor": 0
      },
      "text/plain": [
       "HBox(children=(FloatProgress(value=0.0, max=943.0), HTML(value='')))"
      ]
     },
     "metadata": {},
     "output_type": "display_data"
    },
    {
     "name": "stdout",
     "output_type": "stream",
     "text": [
      "\n",
      "{'n': 1048576, 'sdv_mse': 6.01089250462614e-06, 'sdv_r2_score': 0.9373565686858236, 'sdv_rmse': 0.0024517121577840536, 'num_users': 943, 'num_items': 1680, 'num_ratings': 1048576, 'precision': 0.088016967126193, 'map': 0.008492477613682539, 'ndcg': 0.023338082496882254, 'auc': 0.5291174050099167}\n",
      "2097152\n"
     ]
    },
    {
     "data": {
      "application/vnd.jupyter.widget-view+json": {
       "model_id": "7a4b66d1cbcd442f9e5cc56e0022787b",
       "version_major": 2,
       "version_minor": 0
      },
      "text/plain": [
       "HBox(children=(FloatProgress(value=0.0, max=300.0), HTML(value='')))"
      ]
     },
     "metadata": {},
     "output_type": "display_data"
    },
    {
     "name": "stdout",
     "output_type": "stream",
     "text": [
      "\n"
     ]
    },
    {
     "data": {
      "application/vnd.jupyter.widget-view+json": {
       "model_id": "a6c70fd44ab4415bb2f27fe50f742f5a",
       "version_major": 2,
       "version_minor": 0
      },
      "text/plain": [
       "HBox(children=(FloatProgress(value=0.0, max=943.0), HTML(value='')))"
      ]
     },
     "metadata": {},
     "output_type": "display_data"
    },
    {
     "name": "stdout",
     "output_type": "stream",
     "text": [
      "\n",
      "{'n': 2097152, 'sdv_mse': 6.000860127822438e-06, 'sdv_r2_score': 0.9374611226279773, 'sdv_rmse': 0.0024496653093478787, 'num_users': 943, 'num_items': 1682, 'num_ratings': 2097152, 'precision': 0.07317073170731707, 'map': 0.006853477823710734, 'ndcg': 0.01940530582978686, 'auc': 0.5218261866295483}\n",
      "4194304\n"
     ]
    },
    {
     "data": {
      "application/vnd.jupyter.widget-view+json": {
       "model_id": "77d522f061664e58a4aa71f085a51ac6",
       "version_major": 2,
       "version_minor": 0
      },
      "text/plain": [
       "HBox(children=(FloatProgress(value=0.0, max=300.0), HTML(value='')))"
      ]
     },
     "metadata": {},
     "output_type": "display_data"
    },
    {
     "name": "stdout",
     "output_type": "stream",
     "text": [
      "\n"
     ]
    },
    {
     "data": {
      "application/vnd.jupyter.widget-view+json": {
       "model_id": "9420a6e8b784431ea963f46067f10483",
       "version_major": 2,
       "version_minor": 0
      },
      "text/plain": [
       "HBox(children=(FloatProgress(value=0.0, max=943.0), HTML(value='')))"
      ]
     },
     "metadata": {},
     "output_type": "display_data"
    },
    {
     "name": "stdout",
     "output_type": "stream",
     "text": [
      "\n",
      "{'n': 4194304, 'sdv_mse': 5.976360792554932e-06, 'sdv_r2_score': 0.9377164461801606, 'sdv_rmse': 0.0024446596475900142, 'num_users': 943, 'num_items': 1682, 'num_ratings': 4194304, 'precision': 0.060445387062566275, 'map': 0.005721276973208016, 'ndcg': 0.016227942160724564, 'auc': 0.5155076732465503}\n",
      "8388608\n"
     ]
    },
    {
     "data": {
      "application/vnd.jupyter.widget-view+json": {
       "model_id": "a4d2b146c25d460c9348aa85f916b2c7",
       "version_major": 2,
       "version_minor": 0
      },
      "text/plain": [
       "HBox(children=(FloatProgress(value=0.0, max=300.0), HTML(value='')))"
      ]
     },
     "metadata": {},
     "output_type": "display_data"
    },
    {
     "name": "stdout",
     "output_type": "stream",
     "text": [
      "\n"
     ]
    },
    {
     "data": {
      "application/vnd.jupyter.widget-view+json": {
       "model_id": "5dbe2ad7a6c24ad6b6067d890e3db233",
       "version_major": 2,
       "version_minor": 0
      },
      "text/plain": [
       "HBox(children=(FloatProgress(value=0.0, max=943.0), HTML(value='')))"
      ]
     },
     "metadata": {},
     "output_type": "display_data"
    },
    {
     "name": "stdout",
     "output_type": "stream",
     "text": [
      "\n",
      "{'n': 8388608, 'sdv_mse': 6.007098286821768e-06, 'sdv_r2_score': 0.9373961107042903, 'sdv_rmse': 0.002450938246227711, 'num_users': 943, 'num_items': 1682, 'num_ratings': 8388608, 'precision': 0.03923647932131495, 'map': 0.0031422959557773117, 'ndcg': 0.00999524067086586, 'auc': 0.504826887495}\n",
      "final results: {'n': 8388608, 'sdv_mse': 6.007098286821768e-06, 'sdv_r2_score': 0.9373961107042903, 'sdv_rmse': 0.002450938246227711, 'num_users': 943, 'num_items': 1682, 'num_ratings': 8388608, 'precision': 0.03923647932131495, 'map': 0.0031422959557773117, 'ndcg': 0.00999524067086586, 'auc': 0.504826887495}\n"
     ]
    }
   ],
   "source": [
    "import traceback\n",
    "sdv = SDV()\n",
    "sdv.fit(metadata, tables)\n",
    "\n",
    "res = {}\n",
    "for n in (2**x for x in range(8,24)):\n",
    "    try:\n",
    "        print(n)\n",
    "        res['n'] = n\n",
    "        samples = sdv.sample('ratings', n, reset_primary_keys=True)\n",
    "        sdv_res = evaluate(samples, real=tables, metadata=sdv.metadata)\n",
    "        res['sdv_mse'] = sdv_res['mse'].values[0]\n",
    "        res['sdv_r2_score'] = sdv_res['r2_score'].values[0]\n",
    "        res['sdv_rmse'] = sdv_res['rmse'].values[0]\n",
    "\n",
    "        ratings_df, train_ratings_df, test_ratings_df = preprocess_movie_lens(samples['ratings'])\n",
    "        num_users, num_items, num_ratings = describe_rating_df(ratings_df, \"original set\")\n",
    "\n",
    "        train_ratings_matrix = convert_df_to_sparse_matrix(train_ratings_df, shape=(num_users, num_items))\n",
    "        test_ratings_matrix = convert_df_to_sparse_matrix(test_ratings_df, shape=(num_users, num_items))\n",
    "        \n",
    "        res['num_users'] = num_users\n",
    "        res['num_items'] = num_items\n",
    "        res['num_ratings'] = num_ratings\n",
    "        \n",
    "        model = AlternatingLeastSquares(factors=100, regularization=0.01, iterations=300, num_threads=20)\n",
    "        model.fit(train_ratings_matrix.T)\n",
    "    \n",
    "        impl_res = ranking_metrics_at_k(model, train_ratings_matrix, test_ratings_matrix, K=50, num_threads=1)\n",
    "        res.update(impl_res)\n",
    "        print(res)\n",
    "    except:\n",
    "        print(traceback.format_exc())\n",
    "        \n",
    "print('final results:', res)"
   ]
  },
  {
   "cell_type": "code",
   "execution_count": 69,
   "metadata": {},
   "outputs": [],
   "source": [
    "res_json = \"\"\"\n",
    "[\n",
    "{'n': 256, 'sdv_mse': 7.994360032081747e-06, 'sdv_r2_score': 0.9166855598922978, 'sdv_rmse': 0.0028274299340711783, 'num_users': 5, 'num_items': 19, 'num_ratings': 19, 'precision': 1.0, 'map': 0.09833333333333333, 'ndcg': 0.2868141676552288, 'auc': 0.47777777777777775},\n",
    "{'n': 512, 'sdv_mse': 6.784445509149238e-06, 'sdv_r2_score': 0.9292948682861869, 'sdv_rmse': 0.002604696817126561, 'num_users': 49, 'num_items': 150, 'num_ratings': 172, 'precision': 0.12244897959183673, 'map': 0.005801694854489885, 'ndcg': 0.02667018871856712, 'auc': 0.38946719627448273},\n",
    "{'n': 1024, 'sdv_mse': 7.497010303885454e-06, 'sdv_r2_score': 0.9218687657994756, 'sdv_rmse': 0.0027380668917843212, 'num_users': 162, 'num_items': 401, 'num_ratings': 645, 'precision': 0.05555555555555555, 'map': 0.0027074630735698, 'ndcg': 0.012374605973768868, 'auc': 0.4654166666666667},\n",
    "{'n': 2048, 'sdv_mse': 7.4916307394768865e-06, 'sdv_r2_score': 0.9219248297489255, 'sdv_rmse': 0.0027370843500843897, 'num_users': 304, 'num_items': 621, 'num_ratings': 1697, 'precision': 0.07894736842105263, 'map': 0.006003693231770881, 'ndcg': 0.019702450356214797, 'auc': 0.4993686332767395},\n",
    "{'n': 4096, 'sdv_mse': 6.136301436243091e-06, 'sdv_r2_score': 0.9360496004131611, 'sdv_rmse': 0.0024771559168213636, 'num_users': 419, 'num_items': 797, 'num_ratings': 3734, 'precision': 0.06921241050119331, 'map': 0.006989486930138349, 'ndcg': 0.0193120710931, 'auc': 0.5039487413199681},\n",
    "{'n': 8192, 'sdv_mse': 5.383457586683845e-06, 'sdv_r2_score': 0.9438954772016528, 'sdv_rmse': 0.002320227916969332, 'num_users': 563, 'num_items': 980, 'num_ratings': 7863, 'precision': 0.13854351687388988, 'map': 0.013018151451453035, 'ndcg': 0.0368930095260795, 'auc': 0.5442380578289776},\n",
    "{'n': 16384, 'sdv_mse': 6.285771908760213e-06, 'sdv_r2_score': 0.9344918711289629, 'sdv_rmse': 0.0025071441739078775, 'num_users': 687, 'num_items': 1143, 'num_ratings': 16101, 'precision': 0.09170305676855896, 'map': 0.009062243792089978, 'ndcg': 0.024543289067653542, 'auc': 0.5241309074964876},\n",
    "{'n': 32768, 'sdv_mse': 5.818038038092564e-06, 'sdv_r2_score': 0.9393664308682915, 'sdv_rmse': 0.002412060952399952, 'num_users': 832, 'num_items': 1247, 'num_ratings': 32613, 'precision': 0.10576923076923077, 'map': 0.01040614792098257, 'ndcg': 0.028208632350933224, 'auc': 0.5329815023459724},\n",
    "{'n': 65536, 'sdv_mse': 6.0367123457462245e-06, 'sdv_r2_score': 0.9370874832808684, 'sdv_rmse': 0.0024569721906741687, 'num_users': 917, 'num_items': 1394, 'num_ratings': 65492, 'precision': 0.10032715376226826, 'map': 0.010260463579067469, 'ndcg': 0.026899027985115592, 'auc': 0.5322855905951426},\n",
    "{'n': 131072, 'sdv_mse': 5.8393117707311955e-06, 'sdv_r2_score': 0.9391447234249595, 'sdv_rmse': 0.0024164667948745324, 'num_users': 942, 'num_items': 1513, 'num_ratings': 131071, 'precision': 0.10191082802547771, 'map': 0.009839868507143142, 'ndcg': 0.02718761814926452, 'auc': 0.5345782922746914},\n",
    "{'n': 262144, 'sdv_mse': 5.963963023621745e-06, 'sdv_r2_score': 0.9378456514164907, 'sdv_rmse': 0.0024421226471292848, 'num_users': 943, 'num_items': 1591, 'num_ratings': 262144, 'precision': 0.11240721102863202, 'map': 0.0123801577960425, 'ndcg': 0.030990020187902576, 'auc': 0.540602386335585},\n",
    "{'n': 524288, 'sdv_mse': 5.956585098634555e-06, 'sdv_r2_score': 0.937922541584934, 'sdv_rmse': 0.0024406116238833565, 'num_users': 943, 'num_items': 1650, 'num_ratings': 524288, 'precision': 0.10392364793213149, 'map': 0.0101421641697548, 'ndcg': 0.027494740265647827, 'auc': 0.5368165545235579},\n",
    "{'n': 1048576, 'sdv_mse': 6.01089250462614e-06, 'sdv_r2_score': 0.9373565686858236, 'sdv_rmse': 0.0024517121577840536, 'num_users': 943, 'num_items': 1680, 'num_ratings': 1048576, 'precision': 0.088016967126193, 'map': 0.008492477613682539, 'ndcg': 0.023338082496882254, 'auc': 0.5291174050099167},\n",
    "{'n': 2097152, 'sdv_mse': 6.000860127822438e-06, 'sdv_r2_score': 0.9374611226279773, 'sdv_rmse': 0.0024496653093478787, 'num_users': 943, 'num_items': 1682, 'num_ratings': 2097152, 'precision': 0.07317073170731707, 'map': 0.006853477823710734, 'ndcg': 0.01940530582978686, 'auc': 0.5218261866295483},\n",
    "{'n': 4194304, 'sdv_mse': 5.976360792554932e-06, 'sdv_r2_score': 0.9377164461801606, 'sdv_rmse': 0.0024446596475900142, 'num_users': 943, 'num_items': 1682, 'num_ratings': 4194304, 'precision': 0.060445387062566275, 'map': 0.005721276973208016, 'ndcg': 0.016227942160724564, 'auc': 0.5155076732465503},\n",
    "{'n': 8388608, 'sdv_mse': 6.007098286821768e-06, 'sdv_r2_score': 0.9373961107042903, 'sdv_rmse': 0.002450938246227711, 'num_users': 943, 'num_items': 1682, 'num_ratings': 8388608, 'precision': 0.03923647932131495, 'map': 0.0031422959557773117, 'ndcg': 0.00999524067086586, 'auc': 0.504826887495}\n",
    "]\n",
    "\"\"\".replace('\\'', '\\\"')\n",
    "import json\n",
    "#json.loads(res_json)\n",
    "sdv_res = pd.read_json(res_json)"
   ]
  },
  {
   "cell_type": "code",
   "execution_count": 70,
   "metadata": {},
   "outputs": [
    {
     "data": {
      "image/png": "[encoded data removed]",
      "text/plain": [
       "<Figure size 720x480 with 1 Axes>"
      ]
     },
     "metadata": {},
     "output_type": "display_data"
    }
   ],
   "source": [
    "import matplotlib.pyplot as plt\n",
    "import pandas as pd\n",
    "import seaborn as sns\n",
    "sns.set_style(\"whitegrid\")\n",
    "sns.set_context(\"paper\")\n",
    "sns.set(rc={'figure.dpi': 120})\n",
    "#sdv_res.plot(x='n', y='precision')\n",
    "plt.plot(sdv_res[sdv_res.n >= 1024]['n'], sdv_res[sdv_res.n >= 1024]['precision'], marker='o')\n",
    "plt.xlabel('$|R|$')\n",
    "plt.ylabel('precision')\n",
    "plt.xscale('log')"
   ]
  },
  {
   "cell_type": "code",
   "execution_count": 186,
   "metadata": {},
   "outputs": [
    {
     "data": {
      "image/png": "[encoded data removed]",
      "text/plain": [
       "<Figure size 720x480 with 1 Axes>"
      ]
     },
     "metadata": {},
     "output_type": "display_data"
    }
   ],
   "source": [
    "#sdv_res.plot(x='n', y='precision')\n",
    "plt.plot(sdv_res[sdv_res.n > 1000]['num_ratings'], sdv_res[sdv_res.n > 1000]['auc'], marker='o')\n",
    "plt.xlabel('$|R|$')\n",
    "plt.ylabel('auc')\n",
    "plt.xscale('log')"
   ]
  },
  {
   "cell_type": "code",
   "execution_count": 187,
   "metadata": {},
   "outputs": [
    {
     "data": {
      "image/png": "[encoded data removed]",
      "text/plain": [
       "<Figure size 720x480 with 1 Axes>"
      ]
     },
     "metadata": {},
     "output_type": "display_data"
    }
   ],
   "source": [
    "plt.plot(sdv_res[sdv_res.n > 1000]['num_ratings'], sdv_res[sdv_res.n > 1000]['ndcg'], marker='o')\n",
    "plt.xlabel('$|R|$')\n",
    "plt.ylabel('ndcg')\n",
    "plt.xscale('log')"
   ]
  },
  {
   "cell_type": "code",
   "execution_count": 174,
   "metadata": {},
   "outputs": [
    {
     "data": {
      "text/html": [
       "<div>\n",
       "<style scoped>\n",
       "    .dataframe tbody tr th:only-of-type {\n",
       "        vertical-align: middle;\n",
       "    }\n",
       "\n",
       "    .dataframe tbody tr th {\n",
       "        vertical-align: top;\n",
       "    }\n",
       "\n",
       "    .dataframe thead th {\n",
       "        text-align: right;\n",
       "    }\n",
       "</style>\n",
       "<table border=\"1\" class=\"dataframe\">\n",
       "  <thead>\n",
       "    <tr style=\"text-align: right;\">\n",
       "      <th></th>\n",
       "      <th>n</th>\n",
       "      <th>sdv_mse</th>\n",
       "      <th>sdv_r2_score</th>\n",
       "      <th>sdv_rmse</th>\n",
       "      <th>num_users</th>\n",
       "      <th>num_items</th>\n",
       "      <th>num_ratings</th>\n",
       "      <th>precision</th>\n",
       "      <th>map</th>\n",
       "      <th>ndcg</th>\n",
       "      <th>auc</th>\n",
       "    </tr>\n",
       "  </thead>\n",
       "  <tbody>\n",
       "    <tr>\n",
       "      <th>0</th>\n",
       "      <td>256</td>\n",
       "      <td>0.000008</td>\n",
       "      <td>0.916686</td>\n",
       "      <td>0.002827</td>\n",
       "      <td>5</td>\n",
       "      <td>19</td>\n",
       "      <td>19</td>\n",
       "      <td>1.000000</td>\n",
       "      <td>0.098333</td>\n",
       "      <td>0.286814</td>\n",
       "      <td>0.477778</td>\n",
       "    </tr>\n",
       "    <tr>\n",
       "      <th>1</th>\n",
       "      <td>512</td>\n",
       "      <td>0.000007</td>\n",
       "      <td>0.929295</td>\n",
       "      <td>0.002605</td>\n",
       "      <td>49</td>\n",
       "      <td>150</td>\n",
       "      <td>172</td>\n",
       "      <td>0.122449</td>\n",
       "      <td>0.005802</td>\n",
       "      <td>0.026670</td>\n",
       "      <td>0.389467</td>\n",
       "    </tr>\n",
       "    <tr>\n",
       "      <th>2</th>\n",
       "      <td>1024</td>\n",
       "      <td>0.000007</td>\n",
       "      <td>0.921869</td>\n",
       "      <td>0.002738</td>\n",
       "      <td>162</td>\n",
       "      <td>401</td>\n",
       "      <td>645</td>\n",
       "      <td>0.055556</td>\n",
       "      <td>0.002707</td>\n",
       "      <td>0.012375</td>\n",
       "      <td>0.465417</td>\n",
       "    </tr>\n",
       "    <tr>\n",
       "      <th>3</th>\n",
       "      <td>2048</td>\n",
       "      <td>0.000007</td>\n",
       "      <td>0.921925</td>\n",
       "      <td>0.002737</td>\n",
       "      <td>304</td>\n",
       "      <td>621</td>\n",
       "      <td>1697</td>\n",
       "      <td>0.078947</td>\n",
       "      <td>0.006004</td>\n",
       "      <td>0.019702</td>\n",
       "      <td>0.499369</td>\n",
       "    </tr>\n",
       "    <tr>\n",
       "      <th>4</th>\n",
       "      <td>4096</td>\n",
       "      <td>0.000006</td>\n",
       "      <td>0.936050</td>\n",
       "      <td>0.002477</td>\n",
       "      <td>419</td>\n",
       "      <td>797</td>\n",
       "      <td>3734</td>\n",
       "      <td>0.069212</td>\n",
       "      <td>0.006989</td>\n",
       "      <td>0.019312</td>\n",
       "      <td>0.503949</td>\n",
       "    </tr>\n",
       "    <tr>\n",
       "      <th>5</th>\n",
       "      <td>8192</td>\n",
       "      <td>0.000005</td>\n",
       "      <td>0.943895</td>\n",
       "      <td>0.002320</td>\n",
       "      <td>563</td>\n",
       "      <td>980</td>\n",
       "      <td>7863</td>\n",
       "      <td>0.138544</td>\n",
       "      <td>0.013018</td>\n",
       "      <td>0.036893</td>\n",
       "      <td>0.544238</td>\n",
       "    </tr>\n",
       "    <tr>\n",
       "      <th>6</th>\n",
       "      <td>16384</td>\n",
       "      <td>0.000006</td>\n",
       "      <td>0.934492</td>\n",
       "      <td>0.002507</td>\n",
       "      <td>687</td>\n",
       "      <td>1143</td>\n",
       "      <td>16101</td>\n",
       "      <td>0.091703</td>\n",
       "      <td>0.009062</td>\n",
       "      <td>0.024543</td>\n",
       "      <td>0.524131</td>\n",
       "    </tr>\n",
       "    <tr>\n",
       "      <th>7</th>\n",
       "      <td>32768</td>\n",
       "      <td>0.000006</td>\n",
       "      <td>0.939366</td>\n",
       "      <td>0.002412</td>\n",
       "      <td>832</td>\n",
       "      <td>1247</td>\n",
       "      <td>32613</td>\n",
       "      <td>0.105769</td>\n",
       "      <td>0.010406</td>\n",
       "      <td>0.028209</td>\n",
       "      <td>0.532982</td>\n",
       "    </tr>\n",
       "    <tr>\n",
       "      <th>8</th>\n",
       "      <td>65536</td>\n",
       "      <td>0.000006</td>\n",
       "      <td>0.937087</td>\n",
       "      <td>0.002457</td>\n",
       "      <td>917</td>\n",
       "      <td>1394</td>\n",
       "      <td>65492</td>\n",
       "      <td>0.100327</td>\n",
       "      <td>0.010260</td>\n",
       "      <td>0.026899</td>\n",
       "      <td>0.532286</td>\n",
       "    </tr>\n",
       "    <tr>\n",
       "      <th>9</th>\n",
       "      <td>131072</td>\n",
       "      <td>0.000006</td>\n",
       "      <td>0.939145</td>\n",
       "      <td>0.002416</td>\n",
       "      <td>942</td>\n",
       "      <td>1513</td>\n",
       "      <td>131071</td>\n",
       "      <td>0.101911</td>\n",
       "      <td>0.009840</td>\n",
       "      <td>0.027188</td>\n",
       "      <td>0.534578</td>\n",
       "    </tr>\n",
       "    <tr>\n",
       "      <th>10</th>\n",
       "      <td>262144</td>\n",
       "      <td>0.000006</td>\n",
       "      <td>0.937846</td>\n",
       "      <td>0.002442</td>\n",
       "      <td>943</td>\n",
       "      <td>1591</td>\n",
       "      <td>262144</td>\n",
       "      <td>0.112407</td>\n",
       "      <td>0.012380</td>\n",
       "      <td>0.030990</td>\n",
       "      <td>0.540602</td>\n",
       "    </tr>\n",
       "    <tr>\n",
       "      <th>11</th>\n",
       "      <td>524288</td>\n",
       "      <td>0.000006</td>\n",
       "      <td>0.937923</td>\n",
       "      <td>0.002441</td>\n",
       "      <td>943</td>\n",
       "      <td>1650</td>\n",
       "      <td>524288</td>\n",
       "      <td>0.103924</td>\n",
       "      <td>0.010142</td>\n",
       "      <td>0.027495</td>\n",
       "      <td>0.536817</td>\n",
       "    </tr>\n",
       "    <tr>\n",
       "      <th>12</th>\n",
       "      <td>1048576</td>\n",
       "      <td>0.000006</td>\n",
       "      <td>0.937357</td>\n",
       "      <td>0.002452</td>\n",
       "      <td>943</td>\n",
       "      <td>1680</td>\n",
       "      <td>1048576</td>\n",
       "      <td>0.088017</td>\n",
       "      <td>0.008492</td>\n",
       "      <td>0.023338</td>\n",
       "      <td>0.529117</td>\n",
       "    </tr>\n",
       "    <tr>\n",
       "      <th>13</th>\n",
       "      <td>2097152</td>\n",
       "      <td>0.000006</td>\n",
       "      <td>0.937461</td>\n",
       "      <td>0.002450</td>\n",
       "      <td>943</td>\n",
       "      <td>1682</td>\n",
       "      <td>2097152</td>\n",
       "      <td>0.073171</td>\n",
       "      <td>0.006853</td>\n",
       "      <td>0.019405</td>\n",
       "      <td>0.521826</td>\n",
       "    </tr>\n",
       "    <tr>\n",
       "      <th>14</th>\n",
       "      <td>4194304</td>\n",
       "      <td>0.000006</td>\n",
       "      <td>0.937716</td>\n",
       "      <td>0.002445</td>\n",
       "      <td>943</td>\n",
       "      <td>1682</td>\n",
       "      <td>4194304</td>\n",
       "      <td>0.060445</td>\n",
       "      <td>0.005721</td>\n",
       "      <td>0.016228</td>\n",
       "      <td>0.515508</td>\n",
       "    </tr>\n",
       "    <tr>\n",
       "      <th>15</th>\n",
       "      <td>8388608</td>\n",
       "      <td>0.000006</td>\n",
       "      <td>0.937396</td>\n",
       "      <td>0.002451</td>\n",
       "      <td>943</td>\n",
       "      <td>1682</td>\n",
       "      <td>8388608</td>\n",
       "      <td>0.039236</td>\n",
       "      <td>0.003142</td>\n",
       "      <td>0.009995</td>\n",
       "      <td>0.504827</td>\n",
       "    </tr>\n",
       "  </tbody>\n",
       "</table>\n",
       "</div>"
      ],
      "text/plain": [
       "          n   sdv_mse  sdv_r2_score  sdv_rmse  num_users  num_items  \\\n",
       "0       256  0.000008      0.916686  0.002827          5         19   \n",
       "1       512  0.000007      0.929295  0.002605         49        150   \n",
       "2      1024  0.000007      0.921869  0.002738        162        401   \n",
       "3      2048  0.000007      0.921925  0.002737        304        621   \n",
       "4      4096  0.000006      0.936050  0.002477        419        797   \n",
       "5      8192  0.000005      0.943895  0.002320        563        980   \n",
       "6     16384  0.000006      0.934492  0.002507        687       1143   \n",
       "7     32768  0.000006      0.939366  0.002412        832       1247   \n",
       "8     65536  0.000006      0.937087  0.002457        917       1394   \n",
       "9    131072  0.000006      0.939145  0.002416        942       1513   \n",
       "10   262144  0.000006      0.937846  0.002442        943       1591   \n",
       "11   524288  0.000006      0.937923  0.002441        943       1650   \n",
       "12  1048576  0.000006      0.937357  0.002452        943       1680   \n",
       "13  2097152  0.000006      0.937461  0.002450        943       1682   \n",
       "14  4194304  0.000006      0.937716  0.002445        943       1682   \n",
       "15  8388608  0.000006      0.937396  0.002451        943       1682   \n",
       "\n",
       "    num_ratings  precision       map      ndcg       auc  \n",
       "0            19   1.000000  0.098333  0.286814  0.477778  \n",
       "1           172   0.122449  0.005802  0.026670  0.389467  \n",
       "2           645   0.055556  0.002707  0.012375  0.465417  \n",
       "3          1697   0.078947  0.006004  0.019702  0.499369  \n",
       "4          3734   0.069212  0.006989  0.019312  0.503949  \n",
       "5          7863   0.138544  0.013018  0.036893  0.544238  \n",
       "6         16101   0.091703  0.009062  0.024543  0.524131  \n",
       "7         32613   0.105769  0.010406  0.028209  0.532982  \n",
       "8         65492   0.100327  0.010260  0.026899  0.532286  \n",
       "9        131071   0.101911  0.009840  0.027188  0.534578  \n",
       "10       262144   0.112407  0.012380  0.030990  0.540602  \n",
       "11       524288   0.103924  0.010142  0.027495  0.536817  \n",
       "12      1048576   0.088017  0.008492  0.023338  0.529117  \n",
       "13      2097152   0.073171  0.006853  0.019405  0.521826  \n",
       "14      4194304   0.060445  0.005721  0.016228  0.515508  \n",
       "15      8388608   0.039236  0.003142  0.009995  0.504827  "
      ]
     },
     "execution_count": 174,
     "metadata": {},
     "output_type": "execute_result"
    }
   ],
   "source": [
    "sdv_res"
   ]
  },
  {
   "cell_type": "code",
   "execution_count": 31,
   "metadata": {},
   "outputs": [
    {
     "data": {
      "text/html": [
       "<div>\n",
       "<style scoped>\n",
       "    .dataframe tbody tr th:only-of-type {\n",
       "        vertical-align: middle;\n",
       "    }\n",
       "\n",
       "    .dataframe tbody tr th {\n",
       "        vertical-align: top;\n",
       "    }\n",
       "\n",
       "    .dataframe thead th {\n",
       "        text-align: right;\n",
       "    }\n",
       "</style>\n",
       "<table border=\"1\" class=\"dataframe\">\n",
       "  <thead>\n",
       "    <tr style=\"text-align: right;\">\n",
       "      <th></th>\n",
       "      <th>n</th>\n",
       "      <th>sdv_mse</th>\n",
       "      <th>sdv_r2_score</th>\n",
       "      <th>sdv_rmse</th>\n",
       "      <th>num_users</th>\n",
       "      <th>num_items</th>\n",
       "      <th>num_ratings</th>\n",
       "      <th>precision</th>\n",
       "      <th>map</th>\n",
       "      <th>ndcg</th>\n",
       "      <th>auc</th>\n",
       "    </tr>\n",
       "  </thead>\n",
       "  <tbody>\n",
       "    <tr>\n",
       "      <th>0</th>\n",
       "      <td>256</td>\n",
       "      <td>0.000008</td>\n",
       "      <td>0.916686</td>\n",
       "      <td>0.002827</td>\n",
       "      <td>5</td>\n",
       "      <td>19</td>\n",
       "      <td>19</td>\n",
       "      <td>1.000000</td>\n",
       "      <td>0.098333</td>\n",
       "      <td>0.286814</td>\n",
       "      <td>0.477778</td>\n",
       "    </tr>\n",
       "    <tr>\n",
       "      <th>1</th>\n",
       "      <td>512</td>\n",
       "      <td>0.000007</td>\n",
       "      <td>0.929295</td>\n",
       "      <td>0.002605</td>\n",
       "      <td>49</td>\n",
       "      <td>150</td>\n",
       "      <td>172</td>\n",
       "      <td>0.122449</td>\n",
       "      <td>0.005802</td>\n",
       "      <td>0.026670</td>\n",
       "      <td>0.389467</td>\n",
       "    </tr>\n",
       "    <tr>\n",
       "      <th>2</th>\n",
       "      <td>1024</td>\n",
       "      <td>0.000007</td>\n",
       "      <td>0.921869</td>\n",
       "      <td>0.002738</td>\n",
       "      <td>162</td>\n",
       "      <td>401</td>\n",
       "      <td>645</td>\n",
       "      <td>0.055556</td>\n",
       "      <td>0.002707</td>\n",
       "      <td>0.012375</td>\n",
       "      <td>0.465417</td>\n",
       "    </tr>\n",
       "    <tr>\n",
       "      <th>3</th>\n",
       "      <td>2048</td>\n",
       "      <td>0.000007</td>\n",
       "      <td>0.921925</td>\n",
       "      <td>0.002737</td>\n",
       "      <td>304</td>\n",
       "      <td>621</td>\n",
       "      <td>1697</td>\n",
       "      <td>0.078947</td>\n",
       "      <td>0.006004</td>\n",
       "      <td>0.019702</td>\n",
       "      <td>0.499369</td>\n",
       "    </tr>\n",
       "    <tr>\n",
       "      <th>4</th>\n",
       "      <td>4096</td>\n",
       "      <td>0.000006</td>\n",
       "      <td>0.936050</td>\n",
       "      <td>0.002477</td>\n",
       "      <td>419</td>\n",
       "      <td>797</td>\n",
       "      <td>3734</td>\n",
       "      <td>0.069212</td>\n",
       "      <td>0.006989</td>\n",
       "      <td>0.019312</td>\n",
       "      <td>0.503949</td>\n",
       "    </tr>\n",
       "    <tr>\n",
       "      <th>5</th>\n",
       "      <td>8192</td>\n",
       "      <td>0.000005</td>\n",
       "      <td>0.943895</td>\n",
       "      <td>0.002320</td>\n",
       "      <td>563</td>\n",
       "      <td>980</td>\n",
       "      <td>7863</td>\n",
       "      <td>0.138544</td>\n",
       "      <td>0.013018</td>\n",
       "      <td>0.036893</td>\n",
       "      <td>0.544238</td>\n",
       "    </tr>\n",
       "    <tr>\n",
       "      <th>6</th>\n",
       "      <td>16384</td>\n",
       "      <td>0.000006</td>\n",
       "      <td>0.934492</td>\n",
       "      <td>0.002507</td>\n",
       "      <td>687</td>\n",
       "      <td>1143</td>\n",
       "      <td>16101</td>\n",
       "      <td>0.091703</td>\n",
       "      <td>0.009062</td>\n",
       "      <td>0.024543</td>\n",
       "      <td>0.524131</td>\n",
       "    </tr>\n",
       "    <tr>\n",
       "      <th>7</th>\n",
       "      <td>32768</td>\n",
       "      <td>0.000006</td>\n",
       "      <td>0.939366</td>\n",
       "      <td>0.002412</td>\n",
       "      <td>832</td>\n",
       "      <td>1247</td>\n",
       "      <td>32613</td>\n",
       "      <td>0.105769</td>\n",
       "      <td>0.010406</td>\n",
       "      <td>0.028209</td>\n",
       "      <td>0.532982</td>\n",
       "    </tr>\n",
       "    <tr>\n",
       "      <th>8</th>\n",
       "      <td>65536</td>\n",
       "      <td>0.000006</td>\n",
       "      <td>0.937087</td>\n",
       "      <td>0.002457</td>\n",
       "      <td>917</td>\n",
       "      <td>1394</td>\n",
       "      <td>65492</td>\n",
       "      <td>0.100327</td>\n",
       "      <td>0.010260</td>\n",
       "      <td>0.026899</td>\n",
       "      <td>0.532286</td>\n",
       "    </tr>\n",
       "    <tr>\n",
       "      <th>9</th>\n",
       "      <td>131072</td>\n",
       "      <td>0.000006</td>\n",
       "      <td>0.939145</td>\n",
       "      <td>0.002416</td>\n",
       "      <td>942</td>\n",
       "      <td>1513</td>\n",
       "      <td>131071</td>\n",
       "      <td>0.101911</td>\n",
       "      <td>0.009840</td>\n",
       "      <td>0.027188</td>\n",
       "      <td>0.534578</td>\n",
       "    </tr>\n",
       "    <tr>\n",
       "      <th>10</th>\n",
       "      <td>262144</td>\n",
       "      <td>0.000006</td>\n",
       "      <td>0.937846</td>\n",
       "      <td>0.002442</td>\n",
       "      <td>943</td>\n",
       "      <td>1591</td>\n",
       "      <td>262144</td>\n",
       "      <td>0.112407</td>\n",
       "      <td>0.012380</td>\n",
       "      <td>0.030990</td>\n",
       "      <td>0.540602</td>\n",
       "    </tr>\n",
       "    <tr>\n",
       "      <th>11</th>\n",
       "      <td>524288</td>\n",
       "      <td>0.000006</td>\n",
       "      <td>0.937923</td>\n",
       "      <td>0.002441</td>\n",
       "      <td>943</td>\n",
       "      <td>1650</td>\n",
       "      <td>524288</td>\n",
       "      <td>0.103924</td>\n",
       "      <td>0.010142</td>\n",
       "      <td>0.027495</td>\n",
       "      <td>0.536817</td>\n",
       "    </tr>\n",
       "    <tr>\n",
       "      <th>12</th>\n",
       "      <td>1048576</td>\n",
       "      <td>0.000006</td>\n",
       "      <td>0.937357</td>\n",
       "      <td>0.002452</td>\n",
       "      <td>943</td>\n",
       "      <td>1680</td>\n",
       "      <td>1048576</td>\n",
       "      <td>0.088017</td>\n",
       "      <td>0.008492</td>\n",
       "      <td>0.023338</td>\n",
       "      <td>0.529117</td>\n",
       "    </tr>\n",
       "    <tr>\n",
       "      <th>13</th>\n",
       "      <td>2097152</td>\n",
       "      <td>0.000006</td>\n",
       "      <td>0.937461</td>\n",
       "      <td>0.002450</td>\n",
       "      <td>943</td>\n",
       "      <td>1682</td>\n",
       "      <td>2097152</td>\n",
       "      <td>0.073171</td>\n",
       "      <td>0.006853</td>\n",
       "      <td>0.019405</td>\n",
       "      <td>0.521826</td>\n",
       "    </tr>\n",
       "    <tr>\n",
       "      <th>14</th>\n",
       "      <td>4194304</td>\n",
       "      <td>0.000006</td>\n",
       "      <td>0.937716</td>\n",
       "      <td>0.002445</td>\n",
       "      <td>943</td>\n",
       "      <td>1682</td>\n",
       "      <td>4194304</td>\n",
       "      <td>0.060445</td>\n",
       "      <td>0.005721</td>\n",
       "      <td>0.016228</td>\n",
       "      <td>0.515508</td>\n",
       "    </tr>\n",
       "    <tr>\n",
       "      <th>15</th>\n",
       "      <td>8388608</td>\n",
       "      <td>0.000006</td>\n",
       "      <td>0.937396</td>\n",
       "      <td>0.002451</td>\n",
       "      <td>943</td>\n",
       "      <td>1682</td>\n",
       "      <td>8388608</td>\n",
       "      <td>0.039236</td>\n",
       "      <td>0.003142</td>\n",
       "      <td>0.009995</td>\n",
       "      <td>0.504827</td>\n",
       "    </tr>\n",
       "  </tbody>\n",
       "</table>\n",
       "</div>"
      ],
      "text/plain": [
       "          n   sdv_mse  sdv_r2_score  sdv_rmse  num_users  num_items  \\\n",
       "0       256  0.000008      0.916686  0.002827          5         19   \n",
       "1       512  0.000007      0.929295  0.002605         49        150   \n",
       "2      1024  0.000007      0.921869  0.002738        162        401   \n",
       "3      2048  0.000007      0.921925  0.002737        304        621   \n",
       "4      4096  0.000006      0.936050  0.002477        419        797   \n",
       "5      8192  0.000005      0.943895  0.002320        563        980   \n",
       "6     16384  0.000006      0.934492  0.002507        687       1143   \n",
       "7     32768  0.000006      0.939366  0.002412        832       1247   \n",
       "8     65536  0.000006      0.937087  0.002457        917       1394   \n",
       "9    131072  0.000006      0.939145  0.002416        942       1513   \n",
       "10   262144  0.000006      0.937846  0.002442        943       1591   \n",
       "11   524288  0.000006      0.937923  0.002441        943       1650   \n",
       "12  1048576  0.000006      0.937357  0.002452        943       1680   \n",
       "13  2097152  0.000006      0.937461  0.002450        943       1682   \n",
       "14  4194304  0.000006      0.937716  0.002445        943       1682   \n",
       "15  8388608  0.000006      0.937396  0.002451        943       1682   \n",
       "\n",
       "    num_ratings  precision       map      ndcg       auc  \n",
       "0            19   1.000000  0.098333  0.286814  0.477778  \n",
       "1           172   0.122449  0.005802  0.026670  0.389467  \n",
       "2           645   0.055556  0.002707  0.012375  0.465417  \n",
       "3          1697   0.078947  0.006004  0.019702  0.499369  \n",
       "4          3734   0.069212  0.006989  0.019312  0.503949  \n",
       "5          7863   0.138544  0.013018  0.036893  0.544238  \n",
       "6         16101   0.091703  0.009062  0.024543  0.524131  \n",
       "7         32613   0.105769  0.010406  0.028209  0.532982  \n",
       "8         65492   0.100327  0.010260  0.026899  0.532286  \n",
       "9        131071   0.101911  0.009840  0.027188  0.534578  \n",
       "10       262144   0.112407  0.012380  0.030990  0.540602  \n",
       "11       524288   0.103924  0.010142  0.027495  0.536817  \n",
       "12      1048576   0.088017  0.008492  0.023338  0.529117  \n",
       "13      2097152   0.073171  0.006853  0.019405  0.521826  \n",
       "14      4194304   0.060445  0.005721  0.016228  0.515508  \n",
       "15      8388608   0.039236  0.003142  0.009995  0.504827  "
      ]
     },
     "execution_count": 31,
     "metadata": {},
     "output_type": "execute_result"
    }
   ],
   "source": [
    "sdv_df = pd.read_pickle('sdv_res.pkl')\n",
    "sdv_df"
   ]
  },
  {
   "cell_type": "code",
   "execution_count": 58,
   "metadata": {},
   "outputs": [
    {
     "data": {
      "text/plain": [
       "Text(0.5, 1.0, 'Precision Results for 100k using SDV')"
      ]
     },
     "execution_count": 58,
     "metadata": {},
     "output_type": "execute_result"
    },
    {
     "data": {
      "image/png": "[encoded data removed]",
      "text/plain": [
       "<Figure size 720x480 with 1 Axes>"
      ]
     },
     "metadata": {},
     "output_type": "display_data"
    }
   ],
   "source": [
    "import matplotlib.pyplot as plt\n",
    "import pandas as pd\n",
    "import seaborn as sns\n",
    "sns.set_style(\"whitegrid\")\n",
    "sns.set_context(\"paper\")\n",
    "sns.set(rc={'figure.dpi': 120})\n",
    "#sdv_res.plot(x='n', y='precision')                                         \n",
    "plt.plot(sdv_df[sdv_df.n >= 1024]['n'], sdv_df[sdv_df.n >= 1024]['precision'], marker='o', linewidth=3, markersize=10, label = 'precision')\n",
    "plt.xlabel('$|R|$', fontsize=16)\n",
    "plt.ylabel('precision', fontsize=18)\n",
    "plt.xscale('log')\n",
    "plt.legend(loc=1)\n",
    "plt.title(\"Precision Results for 100k using SDV\", fontsize=14)\n"
   ]
  },
  {
   "cell_type": "code",
   "execution_count": 67,
   "metadata": {},
   "outputs": [
    {
     "data": {
      "text/plain": [
       "Text(0.5, 1.0, 'MAP Results for 100k using SDV')"
      ]
     },
     "execution_count": 67,
     "metadata": {},
     "output_type": "execute_result"
    },
    {
     "data": {
      "image/png": "[encoded data removed]",
      "text/plain": [
       "<Figure size 720x480 with 1 Axes>"
      ]
     },
     "metadata": {},
     "output_type": "display_data"
    }
   ],
   "source": [
    "import matplotlib.pyplot as plt\n",
    "import pandas as pd\n",
    "import seaborn as sns\n",
    "sns.set_style(\"whitegrid\")\n",
    "sns.set_context(\"paper\")\n",
    "sns.set(rc={'figure.dpi': 120})\n",
    "#sdv_res.plot(x='n', y='precision')                                         \n",
    "plt.plot(sdv_df[sdv_df.n >= 1024]['n'], sdv_df[sdv_df.n >= 1024]['map'], marker='o', color='red', linewidth=3, markersize=10, label = 'MAP')\n",
    "plt.xlabel('$|R|$', fontsize=16)\n",
    "plt.ylabel('MAP', fontsize=15)\n",
    "plt.xscale('log')\n",
    "plt.legend(loc=1)\n",
    "plt.title(\"MAP Results for 100k using SDV\", fontsize=14)\n"
   ]
  },
  {
   "cell_type": "code",
   "execution_count": 73,
   "metadata": {},
   "outputs": [
    {
     "data": {
      "text/plain": [
       "Text(0.5, 1.0, 'nDCG Results for 100k using SDV')"
      ]
     },
     "execution_count": 73,
     "metadata": {},
     "output_type": "execute_result"
    },
    {
     "data": {
      "image/png": "[encoded data removed]",
      "text/plain": [
       "<Figure size 720x480 with 1 Axes>"
      ]
     },
     "metadata": {},
     "output_type": "display_data"
    }
   ],
   "source": [
    "import matplotlib.pyplot as plt\n",
    "import pandas as pd\n",
    "import seaborn as sns\n",
    "sns.set_style(\"whitegrid\")\n",
    "sns.set_context(\"paper\")\n",
    "sns.set(rc={'figure.dpi': 120})\n",
    "#sdv_res.plot(x='n', y='precision')                                         \n",
    "plt.plot(sdv_df[sdv_df.n >= 1024]['n'], sdv_df[sdv_df.n >= 1024]['ndcg'], marker='o', color='purple', linewidth=3, markersize=10, label = 'nDCG')\n",
    "plt.xlabel('$|R|$', fontsize=16)\n",
    "plt.ylabel('nDCG', fontsize=15)\n",
    "plt.xscale('log')\n",
    "plt.legend(loc=1)\n",
    "plt.title(\"nDCG Results for 100k using SDV\", fontsize=14)\n"
   ]
  },
  {
   "cell_type": "markdown",
   "metadata": {},
   "source": [
    "### RMSE "
   ]
  },
  {
   "cell_type": "code",
   "execution_count": 76,
   "metadata": {},
   "outputs": [
    {
     "data": {
      "text/plain": [
       "Text(0.5, 1.0, 'RMSE Results for 100k using SDV')"
      ]
     },
     "execution_count": 76,
     "metadata": {},
     "output_type": "execute_result"
    },
    {
     "data": {
      "image/png": "[encoded data removed]",
      "text/plain": [
       "<Figure size 720x480 with 1 Axes>"
      ]
     },
     "metadata": {},
     "output_type": "display_data"
    }
   ],
   "source": [
    "import matplotlib.pyplot as plt\n",
    "import pandas as pd\n",
    "import seaborn as sns\n",
    "sns.set_style(\"whitegrid\")\n",
    "sns.set_context(\"paper\")\n",
    "sns.set(rc={'figure.dpi': 120})\n",
    "#sdv_res.plot(x='n', y='precision')                                         \n",
    "plt.plot(sdv_df[sdv_df.n >= 1024]['n'], sdv_df[sdv_df.n >= 1024]['sdv_rmse'], marker='o', color='black', linewidth=3, markersize=10, label = 'RMSE')\n",
    "plt.xlabel('$|R|$', fontsize=16)\n",
    "plt.ylabel('RMSE', fontsize=15)\n",
    "plt.xscale('log')\n",
    "plt.legend(loc=1)\n",
    "plt.title(\"RMSE Results for 100k using SDV\", fontsize=14)\n"
   ]
  },
  {
   "cell_type": "code",
   "execution_count": null,
   "metadata": {},
   "outputs": [],
   "source": []
  }
 ],
 "metadata": {
  "kernelspec": {
   "display_name": "michael",
   "language": "python",
   "name": "michael"
  },
  "language_info": {
   "codemirror_mode": {
    "name": "ipython",
    "version": 3
   },
   "file_extension": ".py",
   "mimetype": "text/x-python",
   "name": "python",
   "nbconvert_exporter": "python",
   "pygments_lexer": "ipython3",
   "version": "3.6.5"
  }
 },
 "nbformat": 4,
 "nbformat_minor": 4
}
